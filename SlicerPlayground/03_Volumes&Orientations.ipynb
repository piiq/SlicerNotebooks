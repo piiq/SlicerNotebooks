{
 "cells": [
  {
   "cell_type": "markdown",
   "metadata": {},
   "source": [
    "# Volumes and Orientations.\n",
    "\n",
    "## All Right! Let's go a bit deeper.\n",
    "\n",
    "It is very important to understand the differences and the mapping between the coordinate spaces used in math and in medical imaging. Understanding this mapping does automatically answer most of the frequent questions like \n",
    "\n",
    "- Why is my data mirrored?\n",
    "- Why is the orientation wrong?\n",
    "- etc...\n",
    "\n",
    "In the \"Hello_Slicer\" notebook in order to display the text images in slice views some transformations (flipping and transposing) were involved. Let's do some experiments to figure out what are those transformations.\n",
    "\n",
    "So as the [https://www.slicer.org/wiki/Coordinate_systems](https://www.slicer.org/wiki/Coordinate_systems) wiki article explains different coordinate systems are used in different environments.\n",
    "\n",
    "![Coordinate systems](https://www.slicer.org/w/img_auth.php/2/22/Coordinate_sytems.png)\n",
    "\n",
    "---\n",
    "\n",
    "Different files and software can have different implementations of the same coordinate space. For example there is ***ijk*** indexing order in Matlab but in numpy the indexing order is ***kji***. There is LPS in DICOM and there's RAS that Slicer uses.\n",
    "\n",
    "In this notebook we'll focus on ***kji*** because nupmy arrays use this indexing order, and ***RAS*** because Slicer uses it.\n",
    "\n",
    "In order to understand the coordinate space mapping between numpy and Slicer, let's try visualising it with something simple."
   ]
  },
  {
   "cell_type": "markdown",
   "metadata": {},
   "source": [
    "---\n",
    "\n",
    "### Setup\n",
    "\n",
    "Let's setup the notebook environment"
   ]
  },
  {
   "cell_type": "code",
   "execution_count": 1,
   "metadata": {},
   "outputs": [],
   "source": [
    "import os\n",
    "try:\n",
    "    import numpy as np\n",
    "    import JupyterNotebooksLib as slicernb\n",
    "    import matplotlib\n",
    "    from matplotlib import pyplot as plt\n",
    "except ImportError as e:\n",
    "    print(f'Imports failed with the following message: {e}.\\nSlicer environment was not setup correctly.')\n",
    "matplotlib.use('Agg')"
   ]
  },
  {
   "cell_type": "markdown",
   "metadata": {},
   "source": [
    "In addition to the standard modules let's import the file containing the utility functions that we create in these notebooks."
   ]
  },
  {
   "cell_type": "code",
   "execution_count": 2,
   "metadata": {},
   "outputs": [],
   "source": [
    "sys.path.append(os.getcwd())\n",
    "import playground_utils"
   ]
  },
  {
   "cell_type": "markdown",
   "metadata": {},
   "source": [
    "And let's create another utility function that will help us setup plots from arrays.\n",
    "\n",
    "Keep in mind that util [this](https://github.com/jupyter-xeus/xeus-python/issues/224) issue is fixed we're required to plot Matplotlib plots using the `slicernb.MatplotlibDisplay` helper.\n",
    "\n",
    "```python\n",
    "slicernb.MatplotlibDisplay(plt)\n",
    "```\n",
    "\n",
    "instead of\n",
    "\n",
    "```python\n",
    "plt.show()\n",
    "```\n",
    "\n",
    "After the issue is fixed matplotlib should work the same way it works in regular (non slicer) notebooks."
   ]
  },
  {
   "cell_type": "code",
   "execution_count": 3,
   "metadata": {},
   "outputs": [],
   "source": [
    "def setup_plot_array(img_array: np.ndarray, dpi: int = 150) -> plt:\n",
    "    \"\"\"Setup and return a pyplot.\"\"\"\n",
    "    plt.figure(num=1, figsize=(300/dpi, 300/dpi), dpi=dpi)\n",
    "    plt.imshow(img_array, cmap=\"gray\")\n",
    "    return plt"
   ]
  },
  {
   "cell_type": "markdown",
   "metadata": {},
   "source": [
    "---\n",
    "\n",
    "## Pixels and images"
   ]
  },
  {
   "cell_type": "markdown",
   "metadata": {},
   "source": [
    "It's easy to understand a pixel. A pixel is a flat colored thing.\n",
    "\n",
    "#### This is a pixel.\n",
    "\n",
    "Hello, Malevitch"
   ]
  },
  {
   "cell_type": "code",
   "execution_count": 4,
   "metadata": {},
   "outputs": [
    {
     "name": "stdout",
     "output_type": "stream",
     "text": [
      "Image shape is: (1, 1).\n",
      "[[0]]\n"
     ]
    },
    {
     "data": {
      "image/png": "[encoded data removed]",
      "text/plain": [
       "<JupyterNotebooksLib.display.MatplotlibDisplay object at 0x1575c0390>"
      ]
     },
     "execution_count": 4,
     "metadata": {},
     "output_type": "execute_result"
    }
   ],
   "source": [
    "pixel_array = np.arange(0, 1, 1, int)\n",
    "pixel_array = pixel_array.reshape(pixel_array.shape[0], 1)\n",
    "print(f'Image shape is: {pixel_array.shape}.\\n{pixel_array}')\n",
    "slicernb.MatplotlibDisplay(setup_plot_array(pixel_array))"
   ]
  },
  {
   "cell_type": "markdown",
   "metadata": {},
   "source": [
    "And images are sequences of pixels.\n",
    "\n",
    "### This is a 1D horizoltal image"
   ]
  },
  {
   "cell_type": "code",
   "execution_count": 5,
   "metadata": {},
   "outputs": [
    {
     "name": "stdout",
     "output_type": "stream",
     "text": [
      "Image shape is: (1, 3).\n",
      "[[0 1 2]]\n"
     ]
    },
    {
     "data": {
      "image/png": "[encoded data removed]",
      "text/plain": [
       "<JupyterNotebooksLib.display.MatplotlibDisplay object at 0x15760d550>"
      ]
     },
     "execution_count": 5,
     "metadata": {},
     "output_type": "execute_result"
    }
   ],
   "source": [
    "one_d_h_array = np.arange(0, 3, 1, int)\n",
    "one_d_h_array = one_d_h_array.reshape(1, one_d_h_array.shape[0])\n",
    "print(f'Image shape is: {one_d_h_array.shape}.\\n{one_d_h_array}')\n",
    "slicernb.MatplotlibDisplay(setup_plot_array(one_d_h_array))"
   ]
  },
  {
   "cell_type": "markdown",
   "metadata": {},
   "source": [
    "### This is a 1D vertical image"
   ]
  },
  {
   "cell_type": "code",
   "execution_count": 6,
   "metadata": {},
   "outputs": [
    {
     "name": "stdout",
     "output_type": "stream",
     "text": [
      "Image shape is: (3, 1).\n",
      "[[0]\n",
      " [1]\n",
      " [2]]\n"
     ]
    },
    {
     "data": {
      "image/png": "[encoded data removed]",
      "text/plain": [
       "<JupyterNotebooksLib.display.MatplotlibDisplay object at 0x15766e278>"
      ]
     },
     "execution_count": 6,
     "metadata": {},
     "output_type": "execute_result"
    }
   ],
   "source": [
    "one_d_v_array = np.arange(0, 3, 1, int)\n",
    "one_d_v_array = one_d_v_array.reshape(one_d_v_array.shape[0], 1)\n",
    "print(f'Image shape is: {one_d_v_array.shape}.\\n{one_d_v_array}')\n",
    "slicernb.MatplotlibDisplay(setup_plot_array(one_d_v_array))"
   ]
  },
  {
   "cell_type": "markdown",
   "metadata": {},
   "source": [
    "The images were construcred in image coordinate space thus zero is in the top left corner.\n",
    "\n",
    "Let's see it on a 2D array."
   ]
  },
  {
   "cell_type": "markdown",
   "metadata": {},
   "source": [
    "### This is a 2D image"
   ]
  },
  {
   "cell_type": "code",
   "execution_count": 7,
   "metadata": {},
   "outputs": [
    {
     "name": "stdout",
     "output_type": "stream",
     "text": [
      "Image shape is: (3, 3).\n",
      "[[0 1 2]\n",
      " [3 4 5]\n",
      " [6 7 8]]\n"
     ]
    },
    {
     "data": {
      "image/png": "[encoded data removed]",
      "text/plain": [
       "<JupyterNotebooksLib.display.MatplotlibDisplay object at 0x157603f98>"
      ]
     },
     "execution_count": 7,
     "metadata": {},
     "output_type": "execute_result"
    }
   ],
   "source": [
    "two_d_array = np.arange(0, 9, 1, int)\n",
    "two_d_array = two_d_array.reshape(3, 3)\n",
    "print(f'Image shape is: {two_d_array.shape}.\\n{two_d_array}')\n",
    "slicernb.MatplotlibDisplay(setup_plot_array(two_d_array))"
   ]
  },
  {
   "cell_type": "markdown",
   "metadata": {},
   "source": [
    "---\n",
    "\n",
    "## 3D"
   ]
  },
  {
   "cell_type": "markdown",
   "metadata": {},
   "source": [
    "As we embark the world of 3D images and objects, let's try looking at the coordinate systems using a 3x3x3 array. The Rubik's cube is a nice example of such an array. It has 9 elements (one of them, the central one, doesn't move though), each face has a color and we can unwrap it to agree on the side names.\n",
    "\n",
    "![RK](img/rubiks_cube.jpg)\n",
    "\n",
    "- A *side* is an edge slice of the array (a face of the Rubik's cube).\n",
    "- A *camera* is the observer. Front of the camera is where the \"lens\" is.\n",
    "- The *camera position* is the viewpoint from which the observer is looking at the object (our cube)\n",
    "- When the *camera position is outside* it means that we're looking at a cube side from outside of the cube.\n",
    "\n",
    "---\n",
    "\n",
    "But there is a significant difference between an array and a cube object in space. An array is just a sequence of numbers that can be represented as a given shape, when a cube is not only an array of numbers that represent some data points but also a set of coordinated where those numbers are located in space. \n"
   ]
  },
  {
   "cell_type": "markdown",
   "metadata": {},
   "source": [
    "Note: The following explanation might look like an over-simplification. Now let's look at a 3D array (our cube).\n",
    "\n",
    "We'll use array element indexes as their coordinates in space. Also, in the accompanying illustrations the camera uses the same color code as the Rubik's cube to simplify the orientation visualization.\n",
    "\n",
    "![Camera](img/cam.svg)\n",
    "\n",
    "### This is a 3D image"
   ]
  },
  {
   "cell_type": "code",
   "execution_count": 8,
   "metadata": {},
   "outputs": [
    {
     "name": "stdout",
     "output_type": "stream",
     "text": [
      "Image shape is: (3, 3, 3).\n",
      "[[[ 0.  1.  2.]\n",
      "  [ 3.  4.  5.]\n",
      "  [ 6.  7.  8.]]\n",
      "\n",
      " [[ 9. 10. 11.]\n",
      "  [12. 13. 14.]\n",
      "  [15. 16. 17.]]\n",
      "\n",
      " [[18. 19. 20.]\n",
      "  [21. 22. 23.]\n",
      "  [24. 25. 26.]]]\n"
     ]
    }
   ],
   "source": [
    "cube_array = np.arange(0, 27, 1, float)\n",
    "cube_array = cube_array.reshape(3, 3, 3)\n",
    "print(f'Image shape is: {cube_array.shape}.\\n{cube_array}')"
   ]
  },
  {
   "cell_type": "markdown",
   "metadata": {},
   "source": [
    "---\n",
    "\n",
    "#### This is the front slice of the volume.\n",
    "\n",
    "![Front](img/f.svg)"
   ]
  },
  {
   "cell_type": "code",
   "execution_count": 9,
   "metadata": {},
   "outputs": [
    {
     "data": {
      "text/plain": [
       "array([[0., 1., 2.],\n",
       "       [3., 4., 5.],\n",
       "       [6., 7., 8.]])"
      ]
     },
     "execution_count": 9,
     "metadata": {},
     "output_type": "execute_result"
    }
   ],
   "source": [
    "cube_array[0, :, :]"
   ]
  },
  {
   "cell_type": "markdown",
   "metadata": {},
   "source": [
    "The **ji** slice number 0. \n",
    "The green (F) side of the Rubik's cube. The camera is outside."
   ]
  },
  {
   "cell_type": "markdown",
   "metadata": {},
   "source": [
    "---\n",
    "\n",
    "#### This is the top slice.\n",
    "\n",
    "![Up](img/t.svg)"
   ]
  },
  {
   "cell_type": "code",
   "execution_count": 10,
   "metadata": {},
   "outputs": [
    {
     "data": {
      "text/plain": [
       "array([[ 0.,  1.,  2.],\n",
       "       [ 9., 10., 11.],\n",
       "       [18., 19., 20.]])"
      ]
     },
     "execution_count": 10,
     "metadata": {},
     "output_type": "execute_result"
    }
   ],
   "source": [
    "cube_array[:, 0, :]"
   ]
  },
  {
   "cell_type": "markdown",
   "metadata": {},
   "source": [
    "The **ki** slice number 0. The White (U) side of the Rubik's cube. The camera is **inside**. Note that if we would want to put text there it would appear upside down."
   ]
  },
  {
   "cell_type": "markdown",
   "metadata": {},
   "source": [
    "---\n",
    "\n",
    "#### This is the left slice.\n",
    "\n",
    "![L](img/l.svg)"
   ]
  },
  {
   "cell_type": "code",
   "execution_count": 11,
   "metadata": {},
   "outputs": [
    {
     "data": {
      "text/plain": [
       "array([[ 0.,  3.,  6.],\n",
       "       [ 9., 12., 15.],\n",
       "       [18., 21., 24.]])"
      ]
     },
     "execution_count": 11,
     "metadata": {},
     "output_type": "execute_result"
    }
   ],
   "source": [
    "cube_array[:, :, 0]"
   ]
  },
  {
   "cell_type": "markdown",
   "metadata": {},
   "source": [
    "The **kj** slice number 0. The orange (L) side of the Rubik's cube. The camera is inside. Note how the camera is tilted 90 degrees to the left."
   ]
  },
  {
   "cell_type": "markdown",
   "metadata": {},
   "source": [
    "---\n",
    "\n",
    "## From arrays to medical images\n",
    "\n",
    "The mentioned wiki article ([https://www.slicer.org/wiki/Coordinate_systems](https://www.slicer.org/wiki/Coordinate_systems)) explains how the *ijk* coordinate system transforms to the RAS coordinate system that's used by Slicer. A basic explataion of the difference between the two is that *ijk*  (Image coordinate system) treats our volume as an array while RAS (Anatomical coordinate system) treats our volume as a physical object in space. \n",
    "\n",
    "RAS (Right, Anterior, Superior) is similar to LPS with the first two axes flipped and used by 3D Slicer\n",
    "\n",
    "- R (right)    -> from left towards right\n",
    "- A (anterior) -> from posterior towards anterior\n",
    "- S (superior) -> from inferior towards superior\n",
    "\n",
    "![IJtoRS](https://www.slicer.org/w/img_auth.php/thumb/4/40/IJtoRS.png/1100px-IJtoRS.png)\n",
    "\n",
    "Standard slices Medical images use the Anatomical coordinate system (also called patient coordinate system). The anatomical space consists of three planes to describe the standard anatomical position of a human:\n",
    "\n",
    "- the axial plane is parallel to the ground\n",
    "- the coronal plane is perpendicular to the ground and separates the front (Anterior) from the back (Posterior)\n",
    "- the sagittal plane is perpendicular to the ground and separates the Left from the Right\n",
    "\n",
    "---\n",
    "\n",
    "\n",
    "\n",
    "So if we ~~take a CT scan of the Rubik's cube~~ import our cube array as a volume to slicer without applying any transformations we can expect that the image will be rendered.\n"
   ]
  },
  {
   "cell_type": "markdown",
   "metadata": {},
   "source": [
    "Let's import the `cube_array` to Slicer and slice it."
   ]
  },
  {
   "cell_type": "code",
   "execution_count": 12,
   "metadata": {},
   "outputs": [],
   "source": [
    "volumeNode = slicer.util.addVolumeFromArray(cube_array)\n",
    "volumeNode.SetName('My Cube')"
   ]
  },
  {
   "cell_type": "code",
   "execution_count": 13,
   "metadata": {},
   "outputs": [
    {
     "data": {
      "image/png": "[encoded data removed]",
      "text/plain": [
       "<JupyterNotebooksLib.display.ViewDisplay object at 0x1566e86d8>"
      ]
     },
     "execution_count": 13,
     "metadata": {},
     "output_type": "execute_result"
    }
   ],
   "source": [
    "visible_slice_num = 0\n",
    "\n",
    "for sliceView in ['Red', 'Green', 'Yellow']:\n",
    "    playground_utils.show_slice_in_slice_view(volumeNode, visible_slice_num, sliceView)\n",
    "slicernb.ViewDisplay('FourUp', False)"
   ]
  },
  {
   "cell_type": "markdown",
   "metadata": {},
   "source": [
    "OK, it clearly flipped. In order to analyze this image let's turn off the pixel intensity interpolation to see the intensities of individual voxels."
   ]
  },
  {
   "cell_type": "code",
   "execution_count": 14,
   "metadata": {},
   "outputs": [],
   "source": [
    "for node in slicer.util.getNodes('*').values():\n",
    "    if node.IsA('vtkMRMLScalarVolumeDisplayNode'):\n",
    "        node.SetInterpolate(0)\n",
    "lm = slicer.app.layoutManager()"
   ]
  },
  {
   "cell_type": "markdown",
   "metadata": {},
   "source": [
    "---\n",
    "\n",
    "Whithout any applied transformations the \"front\" side of out Rubik's cube is:"
   ]
  },
  {
   "cell_type": "code",
   "execution_count": 15,
   "metadata": {},
   "outputs": [
    {
     "name": "stdout",
     "output_type": "stream",
     "text": [
      "[[0. 1. 2.]\n",
      " [3. 4. 5.]\n",
      " [6. 7. 8.]]\n"
     ]
    }
   ],
   "source": [
    "print(cube_array[0,:,:])"
   ]
  },
  {
   "cell_type": "markdown",
   "metadata": {},
   "source": [
    "When the \"front\" (Max slice number in the coronal plane) of the RAS array is:"
   ]
  },
  {
   "cell_type": "code",
   "execution_count": 16,
   "metadata": {},
   "outputs": [
    {
     "name": "stdout",
     "output_type": "stream",
     "text": [
      "[[26. 25. 24.]\n",
      " [17. 16. 15.]\n",
      " [ 8.  7.  6.]]\n"
     ]
    },
    {
     "data": {
      "application/vnd.jupyter.widget-view+json": {
       "model_id": "25272d9257dc47b28c8db2d69104a209",
       "version_major": 2,
       "version_minor": 0
      },
      "text/plain": [
       "ViewSliceBaseWidget(value=b'\\x89PNG\\r\\n\\x1a\\n\\x00\\x00\\x00\\rIHDR\\x00\\x00\\x01~\\x00\\x00\\x01*\\x08\\x06\\x00\\x00\\x00\\…"
      ]
     },
     "metadata": {},
     "output_type": "display_data"
    }
   ],
   "source": [
    "print(np.flip(np.rot90(cube_array, 1, (0, 1)),\n",
    "              axis=(1,2))[0,:,:])\n",
    "\n",
    "playground_utils.show_slice_in_slice_view(volumeNode, cube_array.shape[0]-1, 'Green')\n",
    "view = lm.sliceWidget('Green').sliceView()\n",
    "view.cornerAnnotation().SetText(vtk.vtkCornerAnnotation.UpperRight,f'Green widget\\nCoronal\\nSlice: {cube_array.shape[0]-1}')\n",
    "slicernb.ViewSliceBaseWidget('Green')"
   ]
  },
  {
   "cell_type": "markdown",
   "metadata": {},
   "source": [
    "---\n",
    "\n",
    "### Where are the Cube sides in RAS now?\n",
    "\n",
    "This transformation tells us that we should be looking for the flipped version of the Rubik's \"front\" where the inferior slice of the Volume is in Slicer."
   ]
  },
  {
   "cell_type": "code",
   "execution_count": 17,
   "metadata": {},
   "outputs": [],
   "source": [
    "transformed_array = np.flip(np.rot90(cube_array, 1, (0, 1)), axis=(1, 2))"
   ]
  },
  {
   "cell_type": "markdown",
   "metadata": {},
   "source": [
    "Since an affine transformation is can be represented as the composition of a linear transformations and translations, we can try to represent the ijk-to-RAS transformation as a composition of translation reflection and rotation.\n",
    "\n",
    "So our cube transformation from numpy to Slicer is a counter-clockwise 90 degee rotation in the **kj** plane followed by flipping **j** and **i**.\n"
   ]
  },
  {
   "cell_type": "markdown",
   "metadata": {},
   "source": [
    "#### Front -> Bottom\n",
    "\n",
    "The minimum slice number in the axial projection."
   ]
  },
  {
   "cell_type": "code",
   "execution_count": 18,
   "metadata": {},
   "outputs": [
    {
     "name": "stdout",
     "output_type": "stream",
     "text": [
      "kji in numpy.\n",
      "Front:\n",
      "[[0. 1. 2.]\n",
      " [3. 4. 5.]\n",
      " [6. 7. 8.]]\n",
      "\n",
      "RAS in Slicer.\n",
      "Bottom:\n",
      "[[8. 7. 6.]\n",
      " [5. 4. 3.]\n",
      " [2. 1. 0.]]\n",
      "\n"
     ]
    },
    {
     "data": {
      "application/vnd.jupyter.widget-view+json": {
       "model_id": "b106d892a3f942eebe62e9d2bd715b24",
       "version_major": 2,
       "version_minor": 0
      },
      "text/plain": [
       "ViewSliceBaseWidget(value=b'\\x89PNG\\r\\n\\x1a\\n\\x00\\x00\\x00\\rIHDR\\x00\\x00\\x01~\\x00\\x00\\x01,\\x08\\x06\\x00\\x00\\x00\\…"
      ]
     },
     "metadata": {},
     "output_type": "display_data"
    }
   ],
   "source": [
    "print(f'kji in numpy.\\nFront:\\n{cube_array[0, :, :]}\\n')\n",
    "print(f'RAS in Slicer.\\nBottom:\\n{transformed_array[:, 2, :]}\\n')\n",
    "\n",
    "playground_utils.show_slice_in_slice_view(volumeNode, 0, 'Red')\n",
    "view = lm.sliceWidget('Red').sliceView()\n",
    "view.cornerAnnotation().SetText(vtk.vtkCornerAnnotation.UpperRight,f'Red slice\\nAxial\\nSlice: 0')\n",
    "slicernb.ViewSliceBaseWidget('Red')"
   ]
  },
  {
   "cell_type": "markdown",
   "metadata": {},
   "source": [
    "#### Top -> Back\n",
    "\n",
    "That's the minimum slice number in the coronal projection."
   ]
  },
  {
   "cell_type": "code",
   "execution_count": 19,
   "metadata": {},
   "outputs": [
    {
     "name": "stdout",
     "output_type": "stream",
     "text": [
      "kji in numpy.\n",
      "Top:\n",
      "[[ 0.  1.  2.]\n",
      " [ 9. 10. 11.]\n",
      " [18. 19. 20.]]\n",
      "\n",
      "RAS in Slicer.\n",
      "Back:\n",
      "[[20. 19. 18.]\n",
      " [11. 10.  9.]\n",
      " [ 2.  1.  0.]]\n",
      "\n"
     ]
    },
    {
     "data": {
      "application/vnd.jupyter.widget-view+json": {
       "model_id": "0f2099dd81a54ca8ac9e7ac9be941094",
       "version_major": 2,
       "version_minor": 0
      },
      "text/plain": [
       "ViewSliceBaseWidget(value=b'\\x89PNG\\r\\n\\x1a\\n\\x00\\x00\\x00\\rIHDR\\x00\\x00\\x01~\\x00\\x00\\x01*\\x08\\x06\\x00\\x00\\x00\\…"
      ]
     },
     "metadata": {},
     "output_type": "display_data"
    }
   ],
   "source": [
    "print(f'kji in numpy.\\nTop:\\n{cube_array[:, 0, :]}\\n')\n",
    "print(f'RAS in Slicer.\\nBack:\\n{transformed_array[2 , : , :]}\\n')\n",
    "\n",
    "playground_utils.show_slice_in_slice_view(volumeNode, 0, 'Green')\n",
    "view = lm.sliceWidget('Green').sliceView()\n",
    "view.cornerAnnotation().SetText(vtk.vtkCornerAnnotation.UpperRight,f'Green wigdet\\nCoronal\\nSlice: 0')\n",
    "slicernb.ViewSliceBaseWidget('Green')"
   ]
  },
  {
   "cell_type": "markdown",
   "metadata": {},
   "source": [
    "#### Left -> Right\n",
    "\n",
    "That's the maximum slice number in the sagittal projection."
   ]
  },
  {
   "cell_type": "code",
   "execution_count": 20,
   "metadata": {},
   "outputs": [
    {
     "name": "stdout",
     "output_type": "stream",
     "text": [
      "kji in numpy.\n",
      "Left:\n",
      "[[ 0.  3.  6.]\n",
      " [ 9. 12. 15.]\n",
      " [18. 21. 24.]]\n",
      "\n",
      "RAS in Slicer.\n",
      "Right:\n",
      "[[24. 21. 18.]\n",
      " [15. 12.  9.]\n",
      " [ 6.  3.  0.]]\n",
      "\n"
     ]
    },
    {
     "data": {
      "application/vnd.jupyter.widget-view+json": {
       "model_id": "e1b021b0365944f8abcfa29f2a08617c",
       "version_major": 2,
       "version_minor": 0
      },
      "text/plain": [
       "ViewSliceBaseWidget(value=b'\\x89PNG\\r\\n\\x1a\\n\\x00\\x00\\x00\\rIHDR\\x00\\x00\\x01~\\x00\\x00\\x01*\\x08\\x06\\x00\\x00\\x00\\…"
      ]
     },
     "metadata": {},
     "output_type": "display_data"
    }
   ],
   "source": [
    "print(f'kji in numpy.\\nLeft:\\n{cube_array[:, :, 0]}\\n')\n",
    "print(f'RAS in Slicer.\\nRight:\\n{transformed_array[:, :, 2].T}\\n')\n",
    "\n",
    "playground_utils.show_slice_in_slice_view(volumeNode, 0, 'Yellow')\n",
    "view = lm.sliceWidget('Yellow').sliceView()\n",
    "view.cornerAnnotation().SetText(vtk.vtkCornerAnnotation.UpperRight,f'Yellow wigdet\\nSagittal\\nSlice: 2')\n",
    "slicernb.ViewSliceBaseWidget('Yellow')"
   ]
  },
  {
   "cell_type": "markdown",
   "metadata": {},
   "source": [
    "---\n",
    "\n",
    "To reinforce the understanding of coordinate space transformations let's create a volume and add the letters representing sides of the cube."
   ]
  },
  {
   "cell_type": "code",
   "execution_count": 21,
   "metadata": {},
   "outputs": [],
   "source": [
    "cube_textures = {}\n",
    "for rk_side in ['F', 'B', 'U', 'D', 'L', 'R']:\n",
    "    cube_textures[rk_side] = playground_utils.create_np_text_img(text=rk_side, font_size=64)"
   ]
  },
  {
   "cell_type": "code",
   "execution_count": 22,
   "metadata": {},
   "outputs": [],
   "source": [
    "volume = np.zeros((128, 128, 128))\n",
    "\n",
    "volume[:1, :, :] = cube_textures['F'].reshape(1, 128, 128)\n",
    "volume[-1:, :, :] = cube_textures['B'].reshape(1, 128, 128)\n",
    "volume[:, :1, :] = cube_textures['U'].reshape(128, 1, 128)\n",
    "volume[:, -1:, :] = cube_textures['D'].reshape(128, 1, 128)\n",
    "volume[:, :, :1] = cube_textures['R'].reshape(1, 128, 128).T\n",
    "volume[:, :, -1:] = cube_textures['L'].reshape(1, 128, 128).T\n",
    "\n",
    "transformed_volume = np.flip(np.rot90(volume, 1, (0, 1)), axis=(1, 2))"
   ]
  },
  {
   "cell_type": "code",
   "execution_count": 23,
   "metadata": {},
   "outputs": [],
   "source": [
    "volumeNode = slicer.util.addVolumeFromArray(transformed_volume)\n",
    "volumeNode.SetName('RAS')"
   ]
  },
  {
   "cell_type": "code",
   "execution_count": 24,
   "metadata": {},
   "outputs": [
    {
     "data": {
      "application/vnd.jupyter.widget-view+json": {
       "model_id": "2b51fa43f9594c0fb7a84511882f3e08",
       "version_major": 2,
       "version_minor": 0
      },
      "text/plain": [
       "ViewSliceBaseWidget(value=b'\\x89PNG\\r\\n\\x1a\\n\\x00\\x00\\x00\\rIHDR\\x00\\x00\\x01~\\x00\\x00\\x01*\\x08\\x06\\x00\\x00\\x00\\…"
      ]
     },
     "metadata": {},
     "output_type": "display_data"
    }
   ],
   "source": [
    "playground_utils.show_slice_in_slice_view(volumeNode, 127, 'Green')\n",
    "view = lm.sliceWidget('Green').sliceView()\n",
    "view.cornerAnnotation().SetText(vtk.vtkCornerAnnotation.UpperRight,f'Green wigdet\\nCoronal\\nSlice: 127')\n",
    "slicernb.ViewSliceBaseWidget('Green')"
   ]
  },
  {
   "cell_type": "code",
   "execution_count": 25,
   "metadata": {},
   "outputs": [
    {
     "data": {
      "application/vnd.jupyter.widget-view+json": {
       "model_id": "4ec00c0398a64f6194ce49eec97bac5b",
       "version_major": 2,
       "version_minor": 0
      },
      "text/plain": [
       "ViewSliceBaseWidget(value=b'\\x89PNG\\r\\n\\x1a\\n\\x00\\x00\\x00\\rIHDR\\x00\\x00\\x01~\\x00\\x00\\x01*\\x08\\x06\\x00\\x00\\x00\\…"
      ]
     },
     "metadata": {},
     "output_type": "display_data"
    }
   ],
   "source": [
    "playground_utils.show_slice_in_slice_view(volumeNode, 127, 'Yellow')\n",
    "view = lm.sliceWidget('Yellow').sliceView()\n",
    "view.cornerAnnotation().SetText(vtk.vtkCornerAnnotation.UpperRight,f'Yellow wigdet\\nSagittal\\nSlice: 127')\n",
    "slicernb.ViewSliceBaseWidget('Yellow')"
   ]
  },
  {
   "cell_type": "code",
   "execution_count": 26,
   "metadata": {},
   "outputs": [
    {
     "data": {
      "application/vnd.jupyter.widget-view+json": {
       "model_id": "712682e94f5c40628d3e51c5eda96d33",
       "version_major": 2,
       "version_minor": 0
      },
      "text/plain": [
       "ViewSliceBaseWidget(value=b'\\x89PNG\\r\\n\\x1a\\n\\x00\\x00\\x00\\rIHDR\\x00\\x00\\x01~\\x00\\x00\\x01,\\x08\\x06\\x00\\x00\\x00\\…"
      ]
     },
     "metadata": {},
     "output_type": "display_data"
    }
   ],
   "source": [
    "playground_utils.show_slice_in_slice_view(volumeNode, 127, 'Red')\n",
    "view = lm.sliceWidget('Red').sliceView()\n",
    "view.cornerAnnotation().SetText(vtk.vtkCornerAnnotation.UpperRight,f'Red wigdet\\nAxial\\nSlice: 127')\n",
    "slicernb.ViewSliceBaseWidget('Red')"
   ]
  },
  {
   "cell_type": "markdown",
   "metadata": {},
   "source": [
    "---\n",
    "\n",
    "Now that the orientation of the data in Slicer is less of a \"black box\" let's continue to play with the Slicer API using some real MI data.\n",
    "\n",
    "Continue in the next notebook."
   ]
  }
 ],
 "metadata": {
  "kernelspec": {
   "display_name": "Slicer 4.13",
   "language": "python",
   "name": "slicer-4.13"
  },
  "language_info": {
   "file_extension": ".py",
   "mimetype": "text/x-python",
   "name": "python",
   "version": "3.6.7"
  }
 },
 "nbformat": 4,
 "nbformat_minor": 4
}
